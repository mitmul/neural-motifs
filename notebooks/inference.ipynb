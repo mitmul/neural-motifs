{
 "cells": [
  {
   "cell_type": "code",
   "execution_count": 2,
   "metadata": {},
   "outputs": [
    {
     "ename": "ModuleNotFoundError",
     "evalue": "No module named 'lib.fpn.box_intersections_cpu.bbox'",
     "output_type": "error",
     "traceback": [
      "\u001b[0;31m---------------------------------------------------------------------------\u001b[0m",
      "\u001b[0;31mModuleNotFoundError\u001b[0m                       Traceback (most recent call last)",
      "\u001b[0;32m<ipython-input-2-467094ea24d3>\u001b[0m in \u001b[0;36m<module>\u001b[0;34m\u001b[0m\n\u001b[1;32m      4\u001b[0m \u001b[0;32mimport\u001b[0m \u001b[0mtorch\u001b[0m\u001b[0;34m\u001b[0m\u001b[0;34m\u001b[0m\u001b[0m\n\u001b[1;32m      5\u001b[0m \u001b[0;32mfrom\u001b[0m \u001b[0mconfig\u001b[0m \u001b[0;32mimport\u001b[0m \u001b[0mModelConfig\u001b[0m\u001b[0;34m\u001b[0m\u001b[0;34m\u001b[0m\u001b[0m\n\u001b[0;32m----> 6\u001b[0;31m \u001b[0;32mfrom\u001b[0m \u001b[0mdataloaders\u001b[0m\u001b[0;34m.\u001b[0m\u001b[0mvisual_genome\u001b[0m \u001b[0;32mimport\u001b[0m \u001b[0mVGDataLoader\u001b[0m\u001b[0;34m\u001b[0m\u001b[0;34m\u001b[0m\u001b[0m\n\u001b[0m\u001b[1;32m      7\u001b[0m \u001b[0;32mfrom\u001b[0m \u001b[0mdataloaders\u001b[0m\u001b[0;34m.\u001b[0m\u001b[0mvisual_genome\u001b[0m \u001b[0;32mimport\u001b[0m \u001b[0mVG\u001b[0m\u001b[0;34m\u001b[0m\u001b[0;34m\u001b[0m\u001b[0m\n\u001b[1;32m      8\u001b[0m \u001b[0;32mfrom\u001b[0m \u001b[0mlib\u001b[0m\u001b[0;34m.\u001b[0m\u001b[0mrel_model\u001b[0m \u001b[0;32mimport\u001b[0m \u001b[0mRelModel\u001b[0m\u001b[0;34m\u001b[0m\u001b[0;34m\u001b[0m\u001b[0m\n",
      "\u001b[0;32m/mnt/vol10/shunta/codes/neural-motifs/dataloaders/visual_genome.py\u001b[0m in \u001b[0;36m<module>\u001b[0;34m\u001b[0m\n\u001b[1;32m     12\u001b[0m \u001b[0;32mfrom\u001b[0m \u001b[0mtorch\u001b[0m\u001b[0;34m.\u001b[0m\u001b[0mutils\u001b[0m\u001b[0;34m.\u001b[0m\u001b[0mdata\u001b[0m \u001b[0;32mimport\u001b[0m \u001b[0mDataset\u001b[0m\u001b[0;34m\u001b[0m\u001b[0;34m\u001b[0m\u001b[0m\n\u001b[1;32m     13\u001b[0m \u001b[0;32mfrom\u001b[0m \u001b[0mtorchvision\u001b[0m\u001b[0;34m.\u001b[0m\u001b[0mtransforms\u001b[0m \u001b[0;32mimport\u001b[0m \u001b[0mResize\u001b[0m\u001b[0;34m,\u001b[0m \u001b[0mCompose\u001b[0m\u001b[0;34m,\u001b[0m \u001b[0mToTensor\u001b[0m\u001b[0;34m,\u001b[0m \u001b[0mNormalize\u001b[0m\u001b[0;34m\u001b[0m\u001b[0;34m\u001b[0m\u001b[0m\n\u001b[0;32m---> 14\u001b[0;31m \u001b[0;32mfrom\u001b[0m \u001b[0mdataloaders\u001b[0m\u001b[0;34m.\u001b[0m\u001b[0mblob\u001b[0m \u001b[0;32mimport\u001b[0m \u001b[0mBlob\u001b[0m\u001b[0;34m\u001b[0m\u001b[0;34m\u001b[0m\u001b[0m\n\u001b[0m\u001b[1;32m     15\u001b[0m \u001b[0;32mfrom\u001b[0m \u001b[0mlib\u001b[0m\u001b[0;34m.\u001b[0m\u001b[0mfpn\u001b[0m\u001b[0;34m.\u001b[0m\u001b[0mbox_intersections_cpu\u001b[0m\u001b[0;34m.\u001b[0m\u001b[0mbbox\u001b[0m \u001b[0;32mimport\u001b[0m \u001b[0mbbox_overlaps\u001b[0m\u001b[0;34m\u001b[0m\u001b[0;34m\u001b[0m\u001b[0m\n\u001b[1;32m     16\u001b[0m \u001b[0;32mfrom\u001b[0m \u001b[0mconfig\u001b[0m \u001b[0;32mimport\u001b[0m \u001b[0mVG_IMAGES\u001b[0m\u001b[0;34m,\u001b[0m \u001b[0mIM_DATA_FN\u001b[0m\u001b[0;34m,\u001b[0m \u001b[0mVG_SGG_FN\u001b[0m\u001b[0;34m,\u001b[0m \u001b[0mVG_SGG_DICT_FN\u001b[0m\u001b[0;34m,\u001b[0m \u001b[0mBOX_SCALE\u001b[0m\u001b[0;34m,\u001b[0m \u001b[0mIM_SCALE\u001b[0m\u001b[0;34m,\u001b[0m \u001b[0mPROPOSAL_FN\u001b[0m\u001b[0;34m\u001b[0m\u001b[0;34m\u001b[0m\u001b[0m\n",
      "\u001b[0;32m/mnt/vol10/shunta/codes/neural-motifs/dataloaders/blob.py\u001b[0m in \u001b[0;36m<module>\u001b[0;34m\u001b[0m\n\u001b[1;32m      2\u001b[0m \u001b[0mData\u001b[0m \u001b[0mblob\u001b[0m\u001b[0;34m,\u001b[0m \u001b[0mhopefully\u001b[0m \u001b[0mto\u001b[0m \u001b[0mmake\u001b[0m \u001b[0mcollating\u001b[0m \u001b[0mless\u001b[0m \u001b[0mpainful\u001b[0m \u001b[0;32mand\u001b[0m \u001b[0mMGPU\u001b[0m \u001b[0mtraining\u001b[0m \u001b[0mpossible\u001b[0m\u001b[0;34m\u001b[0m\u001b[0;34m\u001b[0m\u001b[0m\n\u001b[1;32m      3\u001b[0m \"\"\"\n\u001b[0;32m----> 4\u001b[0;31m \u001b[0;32mfrom\u001b[0m \u001b[0mlib\u001b[0m\u001b[0;34m.\u001b[0m\u001b[0mfpn\u001b[0m\u001b[0;34m.\u001b[0m\u001b[0manchor_targets\u001b[0m \u001b[0;32mimport\u001b[0m \u001b[0manchor_target_layer\u001b[0m\u001b[0;34m\u001b[0m\u001b[0;34m\u001b[0m\u001b[0m\n\u001b[0m\u001b[1;32m      5\u001b[0m \u001b[0;32mimport\u001b[0m \u001b[0mnumpy\u001b[0m \u001b[0;32mas\u001b[0m \u001b[0mnp\u001b[0m\u001b[0;34m\u001b[0m\u001b[0;34m\u001b[0m\u001b[0m\n\u001b[1;32m      6\u001b[0m \u001b[0;32mimport\u001b[0m \u001b[0mtorch\u001b[0m\u001b[0;34m\u001b[0m\u001b[0;34m\u001b[0m\u001b[0m\n",
      "\u001b[0;32m/mnt/vol10/shunta/codes/neural-motifs/lib/fpn/anchor_targets.py\u001b[0m in \u001b[0;36m<module>\u001b[0;34m\u001b[0m\n\u001b[1;32m     10\u001b[0m \u001b[0;32mfrom\u001b[0m \u001b[0mconfig\u001b[0m \u001b[0;32mimport\u001b[0m \u001b[0mIM_SCALE\u001b[0m\u001b[0;34m,\u001b[0m \u001b[0mRPN_NEGATIVE_OVERLAP\u001b[0m\u001b[0;34m,\u001b[0m \u001b[0mRPN_POSITIVE_OVERLAP\u001b[0m\u001b[0;34m,\u001b[0m\u001b[0;31m \u001b[0m\u001b[0;31m\\\u001b[0m\u001b[0;34m\u001b[0m\u001b[0;34m\u001b[0m\u001b[0m\n\u001b[1;32m     11\u001b[0m     \u001b[0mRPN_BATCHSIZE\u001b[0m\u001b[0;34m,\u001b[0m \u001b[0mRPN_FG_FRACTION\u001b[0m\u001b[0;34m,\u001b[0m \u001b[0mANCHOR_SIZE\u001b[0m\u001b[0;34m,\u001b[0m \u001b[0mANCHOR_SCALES\u001b[0m\u001b[0;34m,\u001b[0m \u001b[0mANCHOR_RATIOS\u001b[0m\u001b[0;34m\u001b[0m\u001b[0;34m\u001b[0m\u001b[0m\n\u001b[0;32m---> 12\u001b[0;31m \u001b[0;32mfrom\u001b[0m \u001b[0mlib\u001b[0m\u001b[0;34m.\u001b[0m\u001b[0mfpn\u001b[0m\u001b[0;34m.\u001b[0m\u001b[0mbox_intersections_cpu\u001b[0m\u001b[0;34m.\u001b[0m\u001b[0mbbox\u001b[0m \u001b[0;32mimport\u001b[0m \u001b[0mbbox_overlaps\u001b[0m\u001b[0;34m\u001b[0m\u001b[0;34m\u001b[0m\u001b[0m\n\u001b[0m\u001b[1;32m     13\u001b[0m \u001b[0;32mfrom\u001b[0m \u001b[0mlib\u001b[0m\u001b[0;34m.\u001b[0m\u001b[0mfpn\u001b[0m\u001b[0;34m.\u001b[0m\u001b[0mgenerate_anchors\u001b[0m \u001b[0;32mimport\u001b[0m \u001b[0mgenerate_anchors\u001b[0m\u001b[0;34m\u001b[0m\u001b[0;34m\u001b[0m\u001b[0m\n\u001b[1;32m     14\u001b[0m \u001b[0;34m\u001b[0m\u001b[0m\n",
      "\u001b[0;31mModuleNotFoundError\u001b[0m: No module named 'lib.fpn.box_intersections_cpu.bbox'"
     ]
    }
   ],
   "source": [
    "import sys\n",
    "sys.path.insert(0, '../')\n",
    "\n",
    "import torch\n",
    "from config import ModelConfig\n",
    "from dataloaders.visual_genome import VGDataLoader\n",
    "from dataloaders.visual_genome import VG\n",
    "from lib.rel_model import RelModel"
   ]
  },
  {
   "cell_type": "code",
   "execution_count": null,
   "metadata": {},
   "outputs": [],
   "source": [
    "conf = ModelConfig()\n",
    "\n",
    "train, val, test = VG.splits(\n",
    "    num_val_im=conf.val_size,\n",
    "    filter_duplicate_rels=True,\n",
    "    use_proposals=conf.use_proposals,\n",
    "    filter_non_overlap=conf.mode == 'sgdet'\n",
    ")\n",
    "\n",
    "detector = RelModel(\n",
    "    classes=train.ind_to_classes,\n",
    "    rel_classes=train.ind_to_predicates,\n",
    "    num_gpus=conf.num_gpus,\n",
    "    mode=conf.mode,\n",
    "    require_overlap_det=True,\n",
    "    use_resnet=conf.use_resnet,\n",
    "    order=conf.order,\n",
    "    nl_edge=conf.nl_edge,\n",
    "    nl_obj=conf.nl_obj,\n",
    "    hidden_dim=conf.hidden_dim,\n",
    "    use_proposals=conf.use_proposals,\n",
    "    pass_in_obj_feats_to_decoder=conf.pass_in_obj_feats_to_decoder,\n",
    "    pass_in_obj_feats_to_edge=conf.pass_in_obj_feats_to_edge,\n",
    "    pooling_dim=conf.pooling_dim,\n",
    "    rec_dropout=conf.rec_dropout,\n",
    "    use_bias=conf.use_bias,\n",
    "    use_tanh=conf.use_tanh,\n",
    "    limit_vision=conf.limit_vision\n",
    ")"
   ]
  }
 ],
 "metadata": {
  "kernelspec": {
   "display_name": "Python 3",
   "language": "python",
   "name": "python3"
  },
  "language_info": {
   "codemirror_mode": {
    "name": "ipython",
    "version": 3
   },
   "file_extension": ".py",
   "mimetype": "text/x-python",
   "name": "python",
   "nbconvert_exporter": "python",
   "pygments_lexer": "ipython3",
   "version": "3.6.8"
  }
 },
 "nbformat": 4,
 "nbformat_minor": 2
}
