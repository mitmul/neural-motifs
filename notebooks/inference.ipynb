{
 "cells": [
  {
   "cell_type": "code",
   "execution_count": 2,
   "metadata": {},
   "outputs": [
    {
     "name": "stdout",
     "output_type": "stream",
     "text": [
      "/mnt/vol10/shunta/codes/neural-motifs/data/visual_genome/images\n"
     ]
    }
   ],
   "source": [
    "import sys\n",
    "sys.path.insert(0, '../')\n",
    "\n",
    "import torch\n",
    "from config import ModelConfig\n",
    "from dataloaders.visual_genome import VGDataLoader\n",
    "from dataloaders.visual_genome import VG\n",
    "from lib.rel_model import RelModel"
   ]
  },
  {
   "cell_type": "code",
   "execution_count": null,
   "metadata": {},
   "outputs": [
    {
     "name": "stdout",
     "output_type": "stream",
     "text": [
      "~~~~~~~~ Hyperparameters used: ~~~~~~~\n",
      "coco : False\n",
      "ckpt : \n",
      "det_ckpt : \n",
      "save_dir : \n",
      "num_gpus : 3\n",
      "num_workers : 1\n",
      "lr : 0.001\n",
      "batch_size : 2\n",
      "val_size : 5000\n",
      "l2 : 0.0001\n",
      "clip : 5.0\n",
      "print_interval : 100\n",
      "mode : sgdet\n",
      "model : motifnet\n",
      "old_feats : False\n",
      "order : confidence\n",
      "cache : \n",
      "gt_box : False\n",
      "adam : False\n",
      "test : False\n",
      "multi_pred : False\n",
      "num_epochs : 25\n",
      "use_resnet : False\n",
      "use_proposals : False\n",
      "nl_obj : 1\n",
      "nl_edge : 2\n",
      "hidden_dim : 256\n",
      "pooling_dim : 4096\n",
      "pass_in_obj_feats_to_decoder : False\n",
      "pass_in_obj_feats_to_edge : False\n",
      "rec_dropout : 0.1\n",
      "use_bias : False\n",
      "use_tanh : False\n",
      "limit_vision : False\n",
      "/mnt/vol10/shunta/codes/neural-motifs/data/visual_genome/images\n",
      "/mnt/vol10/shunta/codes/neural-motifs/data/visual_genome/images\n"
     ]
    }
   ],
   "source": [
    "conf = ModelConfig()\n",
    "\n",
    "train, val, test = VG.splits(\n",
    "    num_val_im=conf.val_size,\n",
    "    filter_duplicate_rels=True,\n",
    "    use_proposals=conf.use_proposals,\n",
    "    filter_non_overlap=conf.mode == 'sgdet'\n",
    ")\n",
    "\n",
    "detector = RelModel(\n",
    "    classes=train.ind_to_classes,\n",
    "    rel_classes=train.ind_to_predicates,\n",
    "    num_gpus=conf.num_gpus,\n",
    "    mode=conf.mode,\n",
    "    require_overlap_det=True,\n",
    "    use_resnet=conf.use_resnet,\n",
    "    order=conf.order,\n",
    "    nl_edge=conf.nl_edge,\n",
    "    nl_obj=conf.nl_obj,\n",
    "    hidden_dim=conf.hidden_dim,\n",
    "    use_proposals=conf.use_proposals,\n",
    "    pass_in_obj_feats_to_decoder=conf.pass_in_obj_feats_to_decoder,\n",
    "    pass_in_obj_feats_to_edge=conf.pass_in_obj_feats_to_edge,\n",
    "    pooling_dim=conf.pooling_dim,\n",
    "    rec_dropout=conf.rec_dropout,\n",
    "    use_bias=conf.use_bias,\n",
    "    use_tanh=conf.use_tanh,\n",
    "    limit_vision=conf.limit_vision\n",
    ")"
   ]
  },
  {
   "cell_type": "code",
   "execution_count": null,
   "metadata": {},
   "outputs": [],
   "source": []
  }
 ],
 "metadata": {
  "kernelspec": {
   "display_name": "Python 3",
   "language": "python",
   "name": "python3"
  },
  "language_info": {
   "codemirror_mode": {
    "name": "ipython",
    "version": 3
   },
   "file_extension": ".py",
   "mimetype": "text/x-python",
   "name": "python",
   "nbconvert_exporter": "python",
   "pygments_lexer": "ipython3",
   "version": "3.6.8"
  }
 },
 "nbformat": 4,
 "nbformat_minor": 2
}
